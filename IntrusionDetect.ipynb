{
  "nbformat": 4,
  "nbformat_minor": 0,
  "metadata": {
    "colab": {
      "provenance": [],
      "authorship_tag": "ABX9TyNTe1Q6R+vOWDSyiOKPVTs5",
      "include_colab_link": true
    },
    "kernelspec": {
      "name": "python3",
      "display_name": "Python 3"
    },
    "language_info": {
      "name": "python"
    }
  },
  "cells": [
    {
      "cell_type": "markdown",
      "metadata": {
        "id": "view-in-github",
        "colab_type": "text"
      },
      "source": [
        "<a href=\"https://colab.research.google.com/github/Xue-Shangqi/intrusionDetection/blob/main/IntrusionDetect.ipynb\" target=\"_parent\"><img src=\"https://colab.research.google.com/assets/colab-badge.svg\" alt=\"Open In Colab\"/></a>"
      ]
    },
    {
      "cell_type": "markdown",
      "source": [
        "# Import Libraries\n"
      ],
      "metadata": {
        "id": "xwfKAuPzxmIL"
      }
    },
    {
      "cell_type": "markdown",
      "source": [],
      "metadata": {
        "id": "tRrMu27qjpV-"
      }
    },
    {
      "cell_type": "code",
      "source": [
        "import pandas as pd\n",
        "import numpy as np\n",
        "import tensorflow as tf\n",
        "import matplotlib.pyplot as plt\n",
        "from tensorflow import keras\n",
        "from tensorflow.keras import layers, losses\n",
        "from tensorflow.keras.models import Model\n",
        "from sklearn.model_selection import train_test_split\n",
        "from sklearn.preprocessing import LabelEncoder, MinMaxScaler"
      ],
      "metadata": {
        "id": "-gNIez_3xow_"
      },
      "execution_count": null,
      "outputs": []
    },
    {
      "cell_type": "markdown",
      "source": [
        "# Load NSL-KDD Dataset"
      ],
      "metadata": {
        "id": "wV-W5i89yOJ2"
      }
    },
    {
      "cell_type": "code",
      "source": [
        "url = \"https://raw.githubusercontent.com/defcom17/NSL_KDD/master/KDDTrain+.csv\"\n",
        "columns = ['duration', 'protocol_type', 'service', 'flag', 'src_bytes', 'dst_bytes',\n",
        "           'land', 'wrong_fragment', 'urgent', 'hot', 'num_failed_logins', 'logged_in',\n",
        "           'num_compromised', 'root_shell', 'su_attempted', 'num_root', 'num_file_creations',\n",
        "           'num_shells', 'num_access_files', 'num_outbound_cmds', 'is_host_login',\n",
        "           'is_guest_login', 'count', 'srv_count', 'serror_rate', 'srv_serror_rate',\n",
        "           'rerror_rate', 'srv_rerror_rate', 'same_srv_rate', 'diff_srv_rate',\n",
        "           'srv_diff_host_rate', 'dst_host_count', 'dst_host_srv_count',\n",
        "           'dst_host_same_srv_rate', 'dst_host_diff_srv_rate', 'dst_host_same_src_port_rate',\n",
        "           'dst_host_srv_diff_host_rate', 'dst_host_serror_rate', 'dst_host_srv_serror_rate',\n",
        "           'dst_host_rerror_rate', 'dst_host_srv_rerror_rate', 'label', 'unneeded']\n",
        "\n",
        "df = pd.read_csv(url, names=columns)\n",
        "df = df.drop(columns=['label', 'unneeded'])"
      ],
      "metadata": {
        "id": "dwM1Z4i-ySAs"
      },
      "execution_count": null,
      "outputs": []
    },
    {
      "cell_type": "markdown",
      "source": [
        "# Preprocess Dataset"
      ],
      "metadata": {
        "id": "hCOH8IZm3Q6q"
      }
    },
    {
      "cell_type": "code",
      "source": [
        "encoder = LabelEncoder()\n",
        "for col in ['protocol_type', 'service', 'flag']:\n",
        "  df[col] = encoder.fit_transform(df[col])\n",
        "\n",
        "scaler = MinMaxScaler()\n",
        "X = scaler.fit_transform(df)\n",
        "\n",
        "X_train, X_test = train_test_split(X, test_size=0.2, random_state=42)"
      ],
      "metadata": {
        "id": "ACNhQ8vk3Tyn"
      },
      "execution_count": null,
      "outputs": []
    },
    {
      "cell_type": "markdown",
      "source": [
        "# Build Autoencoder Model"
      ],
      "metadata": {
        "id": "88wN_T0l_jkc"
      }
    },
    {
      "cell_type": "code",
      "source": [
        "class Autoencoder(Model):\n",
        "  def __init__(self, start_dim):\n",
        "    super(Autoencoder, self).__init__()\n",
        "    self.start_dim = start_dim\n",
        "    self.encoder = tf.keras.Sequential([\n",
        "      layers.Input(shape=(start_dim,)),\n",
        "      layers.Dense(64, activation='relu'),\n",
        "      layers.Dense(32, activation='relu'),\n",
        "      layers.Dense(16, activation='relu')\n",
        "    ])\n",
        "    self.decoder = tf.keras.Sequential([\n",
        "      layers.Dense(32, activation='relu'),\n",
        "      layers.Dense(64, activation='relu'),\n",
        "      layers.Dense(start_dim, activation='sigmoid')\n",
        "    ])\n",
        "\n",
        "  def call(self, x):\n",
        "    encoded = self.encoder(x)\n",
        "    decoded = self.decoder(encoded)\n",
        "    return decoded\n",
        "\n",
        "start_dim = X.shape[1]\n",
        "autoencoder  = Autoencoder(start_dim)\n",
        "autoencoder.compile(optimizer='adam', loss=losses.MeanSquaredError())"
      ],
      "metadata": {
        "id": "HCHz5xcy_qvk"
      },
      "execution_count": null,
      "outputs": []
    },
    {
      "cell_type": "markdown",
      "source": [
        "# Train Model"
      ],
      "metadata": {
        "id": "gR8eFWCPCq86"
      }
    },
    {
      "cell_type": "code",
      "source": [
        "history = autoencoder.fit(X_train, X_train,\n",
        "                epochs=25,\n",
        "                batch_size=64,\n",
        "                shuffle=True,\n",
        "                validation_data=(X_test, X_test))\n"
      ],
      "metadata": {
        "colab": {
          "base_uri": "https://localhost:8080/"
        },
        "id": "Ph2t7249CsHE",
        "outputId": "9b484416-7732-46f8-cb61-ecd6edae1f25"
      },
      "execution_count": null,
      "outputs": [
        {
          "output_type": "stream",
          "name": "stdout",
          "text": [
            "Epoch 1/25\n",
            "\u001b[1m1575/1575\u001b[0m \u001b[32m━━━━━━━━━━━━━━━━━━━━\u001b[0m\u001b[37m\u001b[0m \u001b[1m8s\u001b[0m 4ms/step - loss: 0.0324 - val_loss: 0.0028\n",
            "Epoch 2/25\n",
            "\u001b[1m1575/1575\u001b[0m \u001b[32m━━━━━━━━━━━━━━━━━━━━\u001b[0m\u001b[37m\u001b[0m \u001b[1m13s\u001b[0m 6ms/step - loss: 0.0025 - val_loss: 0.0020\n",
            "Epoch 3/25\n",
            "\u001b[1m1575/1575\u001b[0m \u001b[32m━━━━━━━━━━━━━━━━━━━━\u001b[0m\u001b[37m\u001b[0m \u001b[1m7s\u001b[0m 3ms/step - loss: 0.0019 - val_loss: 0.0018\n",
            "Epoch 4/25\n",
            "\u001b[1m1575/1575\u001b[0m \u001b[32m━━━━━━━━━━━━━━━━━━━━\u001b[0m\u001b[37m\u001b[0m \u001b[1m10s\u001b[0m 3ms/step - loss: 0.0017 - val_loss: 0.0016\n",
            "Epoch 5/25\n",
            "\u001b[1m1575/1575\u001b[0m \u001b[32m━━━━━━━━━━━━━━━━━━━━\u001b[0m\u001b[37m\u001b[0m \u001b[1m6s\u001b[0m 4ms/step - loss: 0.0016 - val_loss: 0.0014\n",
            "Epoch 6/25\n",
            "\u001b[1m1575/1575\u001b[0m \u001b[32m━━━━━━━━━━━━━━━━━━━━\u001b[0m\u001b[37m\u001b[0m \u001b[1m9s\u001b[0m 3ms/step - loss: 0.0010 - val_loss: 8.9097e-04\n",
            "Epoch 7/25\n",
            "\u001b[1m1575/1575\u001b[0m \u001b[32m━━━━━━━━━━━━━━━━━━━━\u001b[0m\u001b[37m\u001b[0m \u001b[1m7s\u001b[0m 4ms/step - loss: 8.1044e-04 - val_loss: 7.2174e-04\n",
            "Epoch 8/25\n",
            "\u001b[1m1575/1575\u001b[0m \u001b[32m━━━━━━━━━━━━━━━━━━━━\u001b[0m\u001b[37m\u001b[0m \u001b[1m4s\u001b[0m 3ms/step - loss: 6.4353e-04 - val_loss: 4.9370e-04\n",
            "Epoch 9/25\n",
            "\u001b[1m1575/1575\u001b[0m \u001b[32m━━━━━━━━━━━━━━━━━━━━\u001b[0m\u001b[37m\u001b[0m \u001b[1m6s\u001b[0m 4ms/step - loss: 4.2242e-04 - val_loss: 4.1268e-04\n",
            "Epoch 10/25\n",
            "\u001b[1m1575/1575\u001b[0m \u001b[32m━━━━━━━━━━━━━━━━━━━━\u001b[0m\u001b[37m\u001b[0m \u001b[1m9s\u001b[0m 3ms/step - loss: 3.8101e-04 - val_loss: 3.8396e-04\n",
            "Epoch 11/25\n",
            "\u001b[1m1575/1575\u001b[0m \u001b[32m━━━━━━━━━━━━━━━━━━━━\u001b[0m\u001b[37m\u001b[0m \u001b[1m6s\u001b[0m 4ms/step - loss: 3.4826e-04 - val_loss: 3.5771e-04\n",
            "Epoch 12/25\n",
            "\u001b[1m1575/1575\u001b[0m \u001b[32m━━━━━━━━━━━━━━━━━━━━\u001b[0m\u001b[37m\u001b[0m \u001b[1m6s\u001b[0m 3ms/step - loss: 3.2649e-04 - val_loss: 3.5479e-04\n",
            "Epoch 13/25\n",
            "\u001b[1m1575/1575\u001b[0m \u001b[32m━━━━━━━━━━━━━━━━━━━━\u001b[0m\u001b[37m\u001b[0m \u001b[1m9s\u001b[0m 3ms/step - loss: 3.0924e-04 - val_loss: 3.1688e-04\n",
            "Epoch 14/25\n",
            "\u001b[1m1575/1575\u001b[0m \u001b[32m━━━━━━━━━━━━━━━━━━━━\u001b[0m\u001b[37m\u001b[0m \u001b[1m7s\u001b[0m 4ms/step - loss: 2.8434e-04 - val_loss: 2.7886e-04\n",
            "Epoch 15/25\n",
            "\u001b[1m1575/1575\u001b[0m \u001b[32m━━━━━━━━━━━━━━━━━━━━\u001b[0m\u001b[37m\u001b[0m \u001b[1m4s\u001b[0m 3ms/step - loss: 2.6952e-04 - val_loss: 2.7145e-04\n",
            "Epoch 16/25\n",
            "\u001b[1m1575/1575\u001b[0m \u001b[32m━━━━━━━━━━━━━━━━━━━━\u001b[0m\u001b[37m\u001b[0m \u001b[1m6s\u001b[0m 4ms/step - loss: 2.5822e-04 - val_loss: 2.6405e-04\n",
            "Epoch 17/25\n",
            "\u001b[1m1575/1575\u001b[0m \u001b[32m━━━━━━━━━━━━━━━━━━━━\u001b[0m\u001b[37m\u001b[0m \u001b[1m5s\u001b[0m 3ms/step - loss: 2.4999e-04 - val_loss: 2.5603e-04\n",
            "Epoch 18/25\n",
            "\u001b[1m1575/1575\u001b[0m \u001b[32m━━━━━━━━━━━━━━━━━━━━\u001b[0m\u001b[37m\u001b[0m \u001b[1m5s\u001b[0m 3ms/step - loss: 2.4027e-04 - val_loss: 2.5192e-04\n",
            "Epoch 19/25\n",
            "\u001b[1m1575/1575\u001b[0m \u001b[32m━━━━━━━━━━━━━━━━━━━━\u001b[0m\u001b[37m\u001b[0m \u001b[1m7s\u001b[0m 4ms/step - loss: 2.2632e-04 - val_loss: 2.4784e-04\n",
            "Epoch 20/25\n",
            "\u001b[1m1575/1575\u001b[0m \u001b[32m━━━━━━━━━━━━━━━━━━━━\u001b[0m\u001b[37m\u001b[0m \u001b[1m10s\u001b[0m 3ms/step - loss: 2.0964e-04 - val_loss: 2.1692e-04\n",
            "Epoch 21/25\n",
            "\u001b[1m1575/1575\u001b[0m \u001b[32m━━━━━━━━━━━━━━━━━━━━\u001b[0m\u001b[37m\u001b[0m \u001b[1m4s\u001b[0m 3ms/step - loss: 2.0119e-04 - val_loss: 2.1986e-04\n",
            "Epoch 22/25\n",
            "\u001b[1m1575/1575\u001b[0m \u001b[32m━━━━━━━━━━━━━━━━━━━━\u001b[0m\u001b[37m\u001b[0m \u001b[1m5s\u001b[0m 3ms/step - loss: 1.9572e-04 - val_loss: 2.2992e-04\n",
            "Epoch 23/25\n",
            "\u001b[1m1575/1575\u001b[0m \u001b[32m━━━━━━━━━━━━━━━━━━━━\u001b[0m\u001b[37m\u001b[0m \u001b[1m9s\u001b[0m 3ms/step - loss: 1.9538e-04 - val_loss: 1.9860e-04\n",
            "Epoch 24/25\n",
            "\u001b[1m1575/1575\u001b[0m \u001b[32m━━━━━━━━━━━━━━━━━━━━\u001b[0m\u001b[37m\u001b[0m \u001b[1m6s\u001b[0m 4ms/step - loss: 1.8738e-04 - val_loss: 1.8631e-04\n",
            "Epoch 25/25\n",
            "\u001b[1m1575/1575\u001b[0m \u001b[32m━━━━━━━━━━━━━━━━━━━━\u001b[0m\u001b[37m\u001b[0m \u001b[1m5s\u001b[0m 3ms/step - loss: 1.8038e-04 - val_loss: 1.9309e-04\n"
          ]
        }
      ]
    },
    {
      "cell_type": "markdown",
      "source": [
        "# Test Model"
      ],
      "metadata": {
        "id": "y4gg8WzHjqhc"
      }
    },
    {
      "cell_type": "code",
      "source": [
        "X_test_prediction = autoencoder.predict(X_test)\n",
        "reconstruct_error = np.mean(np.abs(X_test - X_test_prediction), axis=1)\n",
        "threshold = np.percentile(reconstruct_error, 90)\n",
        "\n",
        "anomalies = reconstruct_error > threshold"
      ],
      "metadata": {
        "colab": {
          "base_uri": "https://localhost:8080/"
        },
        "id": "C5eual96js_W",
        "outputId": "152893c6-f32b-4587-b0b8-e6ce58c461d9"
      },
      "execution_count": null,
      "outputs": [
        {
          "output_type": "stream",
          "name": "stdout",
          "text": [
            "\u001b[1m788/788\u001b[0m \u001b[32m━━━━━━━━━━━━━━━━━━━━\u001b[0m\u001b[37m\u001b[0m \u001b[1m1s\u001b[0m 1ms/step\n"
          ]
        }
      ]
    },
    {
      "cell_type": "markdown",
      "source": [
        "# Display Results"
      ],
      "metadata": {
        "id": "gLWVRKPGl4yZ"
      }
    },
    {
      "cell_type": "code",
      "source": [
        "fig, ax = plt.subplots(1, 2, figsize=(12,5))\n",
        "\n",
        "ax[0].plot(history.history['loss'], label='Training Loss')\n",
        "ax[0].plot(history.history['val_loss'], label='Validation Loss')\n",
        "ax[0].set_title('Loss Over Epoch')\n",
        "ax[0].set_xlabel('Loss')\n",
        "ax[0].set_ylabel('Epoch')\n",
        "ax[0].legend()\n",
        "\n",
        "ax[1].hist(reconstruct_error, bins=50)\n",
        "ax[1].set_title('Reconstruction Error')\n",
        "ax[1].set_xlabel('Error Rate')\n",
        "ax[1].set_ylabel('Number of Samples')"
      ],
      "metadata": {
        "colab": {
          "base_uri": "https://localhost:8080/",
          "height": 504
        },
        "id": "Wai-CYpel68C",
        "outputId": "80823371-3f58-48dd-960a-03cb0c9b64c5"
      },
      "execution_count": null,
      "outputs": [
        {
          "output_type": "execute_result",
          "data": {
            "text/plain": [
              "Text(0, 0.5, 'Number of Samples')"
            ]
          },
          "metadata": {},
          "execution_count": 25
        },
        {
          "output_type": "display_data",
          "data": {
            "text/plain": [
              "<Figure size 1200x500 with 2 Axes>"
            ],
            "image/png": "[encoded data removed]"
          },
          "metadata": {}
        }
      ]
    }
  ]
}